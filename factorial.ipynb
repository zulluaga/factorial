{
 "cells": [
  {
   "cell_type": "code",
   "execution_count": 7,
   "metadata": {},
   "outputs": [],
   "source": [
    "def factorial(numero):\n",
    "    if (type(numero) !=int):\n",
    "        return \"El numero debe ser un entero\"\n",
    "    if (numero <0):\n",
    "        return \"El numero debe ser positivo\"\n",
    "    if (numero > 1):\n",
    "        numero = numero * factorial(numero - 1)\n",
    "    \n",
    "    return numero\n",
    "\n"
   ]
  }
 ],
 "metadata": {
  "kernelspec": {
   "display_name": "Python 3",
   "language": "python",
   "name": "python3"
  },
  "language_info": {
   "codemirror_mode": {
    "name": "ipython",
    "version": 3
   },
   "file_extension": ".py",
   "mimetype": "text/x-python",
   "name": "python",
   "nbconvert_exporter": "python",
   "pygments_lexer": "ipython3",
   "version": "3.10.8"
  },
  "orig_nbformat": 4,
  "vscode": {
   "interpreter": {
    "hash": "1464948e9d8a8ba03cc52a1d95e5d437f03a322fc2fe38ff62aee03640f8ed2f"
   }
  }
 },
 "nbformat": 4,
 "nbformat_minor": 2
}
